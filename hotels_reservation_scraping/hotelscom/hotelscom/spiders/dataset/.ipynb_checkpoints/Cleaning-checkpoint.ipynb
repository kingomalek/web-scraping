{
 "cells": [
  {
   "cell_type": "code",
   "execution_count": 83,
   "metadata": {},
   "outputs": [],
   "source": [
    "import pandas as pd"
   ]
  },
  {
   "cell_type": "code",
   "execution_count": 84,
   "metadata": {},
   "outputs": [],
   "source": [
    "df_tn = pd.read_json(\"hotels.com_Tunisia.json\", orient='columns')"
   ]
  },
  {
   "cell_type": "code",
   "execution_count": 85,
   "metadata": {},
   "outputs": [
    {
     "data": {
      "text/html": [
       "<div>\n",
       "<style scoped>\n",
       "    .dataframe tbody tr th:only-of-type {\n",
       "        vertical-align: middle;\n",
       "    }\n",
       "\n",
       "    .dataframe tbody tr th {\n",
       "        vertical-align: top;\n",
       "    }\n",
       "\n",
       "    .dataframe thead th {\n",
       "        text-align: right;\n",
       "    }\n",
       "</style>\n",
       "<table border=\"1\" class=\"dataframe\">\n",
       "  <thead>\n",
       "    <tr style=\"text-align: right;\">\n",
       "      <th></th>\n",
       "      <th>city</th>\n",
       "      <th>country</th>\n",
       "      <th>host</th>\n",
       "      <th>id</th>\n",
       "      <th>price</th>\n",
       "      <th>review</th>\n",
       "      <th>stars</th>\n",
       "      <th>timestamp</th>\n",
       "      <th>titre</th>\n",
       "    </tr>\n",
       "  </thead>\n",
       "  <tbody>\n",
       "    <tr>\n",
       "      <th>0</th>\n",
       "      <td>Ain Draham</td>\n",
       "      <td>Tunisia</td>\n",
       "      <td>hotels.com</td>\n",
       "      <td>253664</td>\n",
       "      <td>€926</td>\n",
       "      <td>8.2</td>\n",
       "      <td>NaN</td>\n",
       "      <td>2018-06-21 09:37:21.215060</td>\n",
       "      <td>El Mouradi Hammam Bourguiba</td>\n",
       "    </tr>\n",
       "    <tr>\n",
       "      <th>1</th>\n",
       "      <td>Bizerte</td>\n",
       "      <td>Tunisia</td>\n",
       "      <td>hotels.com</td>\n",
       "      <td>697745</td>\n",
       "      <td>€840</td>\n",
       "      <td>5.2</td>\n",
       "      <td>NaN</td>\n",
       "      <td>2018-06-21 09:37:21.215060</td>\n",
       "      <td>Hotel Corniche Palace</td>\n",
       "    </tr>\n",
       "    <tr>\n",
       "      <th>2</th>\n",
       "      <td>Zarzis</td>\n",
       "      <td>Tunisia</td>\n",
       "      <td>hotels.com</td>\n",
       "      <td>234483</td>\n",
       "      <td>€2,360</td>\n",
       "      <td>8.0</td>\n",
       "      <td>4.0</td>\n",
       "      <td>2018-06-21 09:37:21.215060</td>\n",
       "      <td>Eden Star</td>\n",
       "    </tr>\n",
       "    <tr>\n",
       "      <th>3</th>\n",
       "      <td>Zarzis</td>\n",
       "      <td>Tunisia</td>\n",
       "      <td>hotels.com</td>\n",
       "      <td>645095872</td>\n",
       "      <td>€1,232</td>\n",
       "      <td>NaN</td>\n",
       "      <td>4.0</td>\n",
       "      <td>2018-06-21 09:37:21.215060</td>\n",
       "      <td>Zephir Hotel &amp; Spa</td>\n",
       "    </tr>\n",
       "    <tr>\n",
       "      <th>4</th>\n",
       "      <td>Zarzis</td>\n",
       "      <td>Tunisia</td>\n",
       "      <td>hotels.com</td>\n",
       "      <td>557362</td>\n",
       "      <td>€630</td>\n",
       "      <td>9.0</td>\n",
       "      <td>NaN</td>\n",
       "      <td>2018-06-21 09:37:21.215060</td>\n",
       "      <td>Hôtel Résidence Bellevue Zarzis</td>\n",
       "    </tr>\n",
       "  </tbody>\n",
       "</table>\n",
       "</div>"
      ],
      "text/plain": [
       "         city  country        host         id   price  review  stars  \\\n",
       "0  Ain Draham  Tunisia  hotels.com     253664    €926     8.2    NaN   \n",
       "1     Bizerte  Tunisia  hotels.com     697745    €840     5.2    NaN   \n",
       "2      Zarzis  Tunisia  hotels.com     234483  €2,360     8.0    4.0   \n",
       "3      Zarzis  Tunisia  hotels.com  645095872  €1,232     NaN    4.0   \n",
       "4      Zarzis  Tunisia  hotels.com     557362    €630     9.0    NaN   \n",
       "\n",
       "                   timestamp                            titre  \n",
       "0 2018-06-21 09:37:21.215060      El Mouradi Hammam Bourguiba  \n",
       "1 2018-06-21 09:37:21.215060            Hotel Corniche Palace  \n",
       "2 2018-06-21 09:37:21.215060                        Eden Star  \n",
       "3 2018-06-21 09:37:21.215060               Zephir Hotel & Spa  \n",
       "4 2018-06-21 09:37:21.215060  Hôtel Résidence Bellevue Zarzis  "
      ]
     },
     "execution_count": 85,
     "metadata": {},
     "output_type": "execute_result"
    }
   ],
   "source": [
    "df.head()"
   ]
  },
  {
   "cell_type": "code",
   "execution_count": 86,
   "metadata": {},
   "outputs": [
    {
     "data": {
      "text/plain": [
       "256"
      ]
     },
     "execution_count": 86,
     "metadata": {},
     "output_type": "execute_result"
    }
   ],
   "source": [
    "len(df)"
   ]
  },
  {
   "cell_type": "code",
   "execution_count": 87,
   "metadata": {},
   "outputs": [],
   "source": [
    "df.drop_duplicates(subset=['id'], keep='last',inplace=True)"
   ]
  },
  {
   "cell_type": "code",
   "execution_count": 88,
   "metadata": {},
   "outputs": [
    {
     "data": {
      "text/plain": [
       "188"
      ]
     },
     "execution_count": 88,
     "metadata": {},
     "output_type": "execute_result"
    }
   ],
   "source": [
    "len(df)"
   ]
  },
  {
   "cell_type": "code",
   "execution_count": 89,
   "metadata": {},
   "outputs": [],
   "source": [
    "def clean_price(x):\n",
    "    if x is not None:\n",
    "        s =''\n",
    "        for i in x:\n",
    "            if i.isdigit():\n",
    "                s+=i\n",
    "    return float(s)\n",
    "df['price'] = df['price'].apply(lambda x: clean_price(x))\n"
   ]
  },
  {
   "cell_type": "code",
   "execution_count": 90,
   "metadata": {},
   "outputs": [
    {
     "data": {
      "text/html": [
       "<div>\n",
       "<style scoped>\n",
       "    .dataframe tbody tr th:only-of-type {\n",
       "        vertical-align: middle;\n",
       "    }\n",
       "\n",
       "    .dataframe tbody tr th {\n",
       "        vertical-align: top;\n",
       "    }\n",
       "\n",
       "    .dataframe thead th {\n",
       "        text-align: right;\n",
       "    }\n",
       "</style>\n",
       "<table border=\"1\" class=\"dataframe\">\n",
       "  <thead>\n",
       "    <tr style=\"text-align: right;\">\n",
       "      <th></th>\n",
       "      <th>city</th>\n",
       "      <th>country</th>\n",
       "      <th>host</th>\n",
       "      <th>id</th>\n",
       "      <th>price</th>\n",
       "      <th>review</th>\n",
       "      <th>stars</th>\n",
       "      <th>timestamp</th>\n",
       "      <th>titre</th>\n",
       "    </tr>\n",
       "  </thead>\n",
       "  <tbody>\n",
       "    <tr>\n",
       "      <th>1</th>\n",
       "      <td>Bizerte</td>\n",
       "      <td>Tunisia</td>\n",
       "      <td>hotels.com</td>\n",
       "      <td>697745</td>\n",
       "      <td>840.0</td>\n",
       "      <td>5.2</td>\n",
       "      <td>NaN</td>\n",
       "      <td>2018-06-21 09:37:21.215060</td>\n",
       "      <td>Hotel Corniche Palace</td>\n",
       "    </tr>\n",
       "    <tr>\n",
       "      <th>2</th>\n",
       "      <td>Zarzis</td>\n",
       "      <td>Tunisia</td>\n",
       "      <td>hotels.com</td>\n",
       "      <td>234483</td>\n",
       "      <td>2360.0</td>\n",
       "      <td>8.0</td>\n",
       "      <td>4.0</td>\n",
       "      <td>2018-06-21 09:37:21.215060</td>\n",
       "      <td>Eden Star</td>\n",
       "    </tr>\n",
       "    <tr>\n",
       "      <th>3</th>\n",
       "      <td>Zarzis</td>\n",
       "      <td>Tunisia</td>\n",
       "      <td>hotels.com</td>\n",
       "      <td>645095872</td>\n",
       "      <td>1232.0</td>\n",
       "      <td>NaN</td>\n",
       "      <td>4.0</td>\n",
       "      <td>2018-06-21 09:37:21.215060</td>\n",
       "      <td>Zephir Hotel &amp; Spa</td>\n",
       "    </tr>\n",
       "    <tr>\n",
       "      <th>4</th>\n",
       "      <td>Zarzis</td>\n",
       "      <td>Tunisia</td>\n",
       "      <td>hotels.com</td>\n",
       "      <td>557362</td>\n",
       "      <td>630.0</td>\n",
       "      <td>9.0</td>\n",
       "      <td>NaN</td>\n",
       "      <td>2018-06-21 09:37:21.215060</td>\n",
       "      <td>Hôtel Résidence Bellevue Zarzis</td>\n",
       "    </tr>\n",
       "    <tr>\n",
       "      <th>5</th>\n",
       "      <td>Zarzis</td>\n",
       "      <td>Tunisia</td>\n",
       "      <td>hotels.com</td>\n",
       "      <td>236927</td>\n",
       "      <td>806.0</td>\n",
       "      <td>2.0</td>\n",
       "      <td>NaN</td>\n",
       "      <td>2018-06-21 09:37:21.215060</td>\n",
       "      <td>Hotel Giktis</td>\n",
       "    </tr>\n",
       "  </tbody>\n",
       "</table>\n",
       "</div>"
      ],
      "text/plain": [
       "      city  country        host         id   price  review  stars  \\\n",
       "1  Bizerte  Tunisia  hotels.com     697745   840.0     5.2    NaN   \n",
       "2   Zarzis  Tunisia  hotels.com     234483  2360.0     8.0    4.0   \n",
       "3   Zarzis  Tunisia  hotels.com  645095872  1232.0     NaN    4.0   \n",
       "4   Zarzis  Tunisia  hotels.com     557362   630.0     9.0    NaN   \n",
       "5   Zarzis  Tunisia  hotels.com     236927   806.0     2.0    NaN   \n",
       "\n",
       "                   timestamp                            titre  \n",
       "1 2018-06-21 09:37:21.215060            Hotel Corniche Palace  \n",
       "2 2018-06-21 09:37:21.215060                        Eden Star  \n",
       "3 2018-06-21 09:37:21.215060               Zephir Hotel & Spa  \n",
       "4 2018-06-21 09:37:21.215060  Hôtel Résidence Bellevue Zarzis  \n",
       "5 2018-06-21 09:37:21.215060                     Hotel Giktis  "
      ]
     },
     "execution_count": 90,
     "metadata": {},
     "output_type": "execute_result"
    }
   ],
   "source": [
    "df.head()"
   ]
  },
  {
   "cell_type": "code",
   "execution_count": 91,
   "metadata": {},
   "outputs": [],
   "source": [
    "df.dropna(subset=['titre'], inplace=True)"
   ]
  },
  {
   "cell_type": "code",
   "execution_count": 92,
   "metadata": {},
   "outputs": [
    {
     "data": {
      "text/plain": [
       "188"
      ]
     },
     "execution_count": 92,
     "metadata": {},
     "output_type": "execute_result"
    }
   ],
   "source": [
    "len(df)"
   ]
  },
  {
   "cell_type": "code",
   "execution_count": 93,
   "metadata": {},
   "outputs": [],
   "source": [
    "df['review'] = pd.to_numeric(df['review'], errors='coerce')\n",
    "df['stars'] = pd.to_numeric(df['stars'], errors='coerce')\n",
    "df['id'] = pd.to_numeric(df['id'], errors='coerce')\n",
    "#df['timestamp'] = pd.to_datetime(df['timestamp'], format='%Y%m%d', errors='coerce')"
   ]
  },
  {
   "cell_type": "code",
   "execution_count": 94,
   "metadata": {},
   "outputs": [
    {
     "name": "stdout",
     "output_type": "stream",
     "text": [
      "<class 'pandas.core.frame.DataFrame'>\n",
      "Int64Index: 188 entries, 1 to 255\n",
      "Data columns (total 9 columns):\n",
      "city         188 non-null object\n",
      "country      188 non-null object\n",
      "host         188 non-null object\n",
      "id           188 non-null int64\n",
      "price        188 non-null float64\n",
      "review       173 non-null float64\n",
      "stars        110 non-null float64\n",
      "timestamp    188 non-null datetime64[ns]\n",
      "titre        188 non-null object\n",
      "dtypes: datetime64[ns](1), float64(3), int64(1), object(4)\n",
      "memory usage: 14.7+ KB\n"
     ]
    }
   ],
   "source": [
    "df.info()"
   ]
  },
  {
   "cell_type": "code",
   "execution_count": null,
   "metadata": {},
   "outputs": [],
   "source": []
  }
 ],
 "metadata": {
  "kernelspec": {
   "display_name": "Python 3",
   "language": "python",
   "name": "python3"
  },
  "language_info": {
   "codemirror_mode": {
    "name": "ipython",
    "version": 3
   },
   "file_extension": ".py",
   "mimetype": "text/x-python",
   "name": "python",
   "nbconvert_exporter": "python",
   "pygments_lexer": "ipython3",
   "version": "3.6.5"
  }
 },
 "nbformat": 4,
 "nbformat_minor": 2
}
