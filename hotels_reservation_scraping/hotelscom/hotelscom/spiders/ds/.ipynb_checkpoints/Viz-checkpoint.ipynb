{
 "cells": [
  {
   "cell_type": "code",
   "execution_count": 20,
   "metadata": {},
   "outputs": [],
   "source": [
    "import pandas as pd"
   ]
  },
  {
   "cell_type": "code",
   "execution_count": 21,
   "metadata": {},
   "outputs": [
    {
     "name": "stdout",
     "output_type": "stream",
     "text": [
      "<class 'pandas.core.frame.DataFrame'>\n",
      "Int64Index: 3736 entries, 0 to 1397\n",
      "Data columns (total 9 columns):\n",
      "city         3736 non-null object\n",
      "country      3736 non-null object\n",
      "host         3736 non-null object\n",
      "id           3736 non-null int64\n",
      "price        3736 non-null float64\n",
      "review       3360 non-null float64\n",
      "stars        3736 non-null int64\n",
      "timestamp    3736 non-null object\n",
      "titre        3736 non-null object\n",
      "dtypes: float64(2), int64(2), object(5)\n",
      "memory usage: 291.9+ KB\n"
     ]
    }
   ],
   "source": [
    "hotelscom = pd.read_csv(\"clean_hotelscom.csv\")\n",
    "besthotel = pd.read_csv(\"clean_besthoteloffersnet.csv\")\n",
    "bookingcom = pd.read_csv(\"clean_bookingcom.csv\")\n",
    "result = pd.concat([hotelscom,besthotel,bookingcom])\n",
    "result.info()"
   ]
  },
  {
   "cell_type": "code",
   "execution_count": 22,
   "metadata": {},
   "outputs": [
    {
     "data": {
      "text/html": [
       "<div>\n",
       "<style scoped>\n",
       "    .dataframe tbody tr th:only-of-type {\n",
       "        vertical-align: middle;\n",
       "    }\n",
       "\n",
       "    .dataframe tbody tr th {\n",
       "        vertical-align: top;\n",
       "    }\n",
       "\n",
       "    .dataframe thead th {\n",
       "        text-align: right;\n",
       "    }\n",
       "</style>\n",
       "<table border=\"1\" class=\"dataframe\">\n",
       "  <thead>\n",
       "    <tr style=\"text-align: right;\">\n",
       "      <th></th>\n",
       "      <th>city</th>\n",
       "      <th>country</th>\n",
       "      <th>host</th>\n",
       "      <th>id</th>\n",
       "      <th>price</th>\n",
       "      <th>review</th>\n",
       "      <th>stars</th>\n",
       "      <th>timestamp</th>\n",
       "      <th>titre</th>\n",
       "    </tr>\n",
       "  </thead>\n",
       "  <tbody>\n",
       "    <tr>\n",
       "      <th>0</th>\n",
       "      <td>oud metha</td>\n",
       "      <td>united arab emirates</td>\n",
       "      <td>hotels.com</td>\n",
       "      <td>199445</td>\n",
       "      <td>883.0</td>\n",
       "      <td>8.6</td>\n",
       "      <td>5</td>\n",
       "      <td>2018-06-24 18:38:14.556195</td>\n",
       "      <td>movenpick hotel &amp; apartments bur dubai</td>\n",
       "    </tr>\n",
       "    <tr>\n",
       "      <th>1</th>\n",
       "      <td>culture village</td>\n",
       "      <td>united arab emirates</td>\n",
       "      <td>hotels.com</td>\n",
       "      <td>490216</td>\n",
       "      <td>2452.0</td>\n",
       "      <td>9.4</td>\n",
       "      <td>5</td>\n",
       "      <td>2018-06-24 18:38:14.556195</td>\n",
       "      <td>palazzo versace dubai</td>\n",
       "    </tr>\n",
       "    <tr>\n",
       "      <th>2</th>\n",
       "      <td>culture village</td>\n",
       "      <td>united arab emirates</td>\n",
       "      <td>hotels.com</td>\n",
       "      <td>598970752</td>\n",
       "      <td>594.0</td>\n",
       "      <td>7.2</td>\n",
       "      <td>4</td>\n",
       "      <td>2018-06-24 18:38:14.556195</td>\n",
       "      <td>goldstate hotel</td>\n",
       "    </tr>\n",
       "    <tr>\n",
       "      <th>3</th>\n",
       "      <td>culture village</td>\n",
       "      <td>united arab emirates</td>\n",
       "      <td>hotels.com</td>\n",
       "      <td>474731</td>\n",
       "      <td>501.0</td>\n",
       "      <td>6.6</td>\n",
       "      <td>4</td>\n",
       "      <td>2018-06-24 18:38:14.556195</td>\n",
       "      <td>reflections hotel dubai</td>\n",
       "    </tr>\n",
       "    <tr>\n",
       "      <th>4</th>\n",
       "      <td>culture village</td>\n",
       "      <td>united arab emirates</td>\n",
       "      <td>hotels.com</td>\n",
       "      <td>700354112</td>\n",
       "      <td>784.0</td>\n",
       "      <td>NaN</td>\n",
       "      <td>4</td>\n",
       "      <td>2018-06-24 18:38:14.556195</td>\n",
       "      <td>form hotel dubai, a member of design hotels</td>\n",
       "    </tr>\n",
       "  </tbody>\n",
       "</table>\n",
       "</div>"
      ],
      "text/plain": [
       "              city               country        host         id   price  \\\n",
       "0        oud metha  united arab emirates  hotels.com     199445   883.0   \n",
       "1  culture village  united arab emirates  hotels.com     490216  2452.0   \n",
       "2  culture village  united arab emirates  hotels.com  598970752   594.0   \n",
       "3  culture village  united arab emirates  hotels.com     474731   501.0   \n",
       "4  culture village  united arab emirates  hotels.com  700354112   784.0   \n",
       "\n",
       "   review  stars                   timestamp  \\\n",
       "0     8.6      5  2018-06-24 18:38:14.556195   \n",
       "1     9.4      5  2018-06-24 18:38:14.556195   \n",
       "2     7.2      4  2018-06-24 18:38:14.556195   \n",
       "3     6.6      4  2018-06-24 18:38:14.556195   \n",
       "4     NaN      4  2018-06-24 18:38:14.556195   \n",
       "\n",
       "                                         titre  \n",
       "0       movenpick hotel & apartments bur dubai  \n",
       "1                        palazzo versace dubai  \n",
       "2                              goldstate hotel  \n",
       "3                      reflections hotel dubai  \n",
       "4  form hotel dubai, a member of design hotels  "
      ]
     },
     "execution_count": 22,
     "metadata": {},
     "output_type": "execute_result"
    }
   ],
   "source": [
    "result.head()"
   ]
  },
  {
   "cell_type": "code",
   "execution_count": 23,
   "metadata": {
    "scrolled": true
   },
   "outputs": [
    {
     "data": {
      "text/plain": [
       "array(['united arab emirates', 'algeria', 'morocco', 'jordan', 'tunisia',\n",
       "       'lebanon'], dtype=object)"
      ]
     },
     "execution_count": 23,
     "metadata": {},
     "output_type": "execute_result"
    }
   ],
   "source": [
    "result['country'].unique()"
   ]
  },
  {
   "cell_type": "code",
   "execution_count": null,
   "metadata": {},
   "outputs": [],
   "source": [
    "result[result.stars==3 and result.price==3]"
   ]
  },
  {
   "cell_type": "code",
   "execution_count": null,
   "metadata": {},
   "outputs": [],
   "source": []
  }
 ],
 "metadata": {
  "kernelspec": {
   "display_name": "Python 3",
   "language": "python",
   "name": "python3"
  },
  "language_info": {
   "codemirror_mode": {
    "name": "ipython",
    "version": 3
   },
   "file_extension": ".py",
   "mimetype": "text/x-python",
   "name": "python",
   "nbconvert_exporter": "python",
   "pygments_lexer": "ipython3",
   "version": "3.6.5"
  }
 },
 "nbformat": 4,
 "nbformat_minor": 2
}
