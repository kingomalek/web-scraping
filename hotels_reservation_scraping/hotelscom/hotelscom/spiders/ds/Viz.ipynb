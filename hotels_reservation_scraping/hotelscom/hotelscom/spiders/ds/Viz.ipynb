{
 "cells": [
  {
   "cell_type": "code",
   "execution_count": 1,
   "metadata": {},
   "outputs": [],
   "source": [
    "import pandas as pd"
   ]
  },
  {
   "cell_type": "code",
   "execution_count": 2,
   "metadata": {},
   "outputs": [
    {
     "name": "stdout",
     "output_type": "stream",
     "text": [
      "<class 'pandas.core.frame.DataFrame'>\n",
      "Int64Index: 3736 entries, 0 to 1397\n",
      "Data columns (total 9 columns):\n",
      "city         3736 non-null object\n",
      "country      3736 non-null object\n",
      "host         3736 non-null object\n",
      "id           3736 non-null int64\n",
      "price        3736 non-null float64\n",
      "review       3360 non-null float64\n",
      "stars        3736 non-null int64\n",
      "timestamp    3736 non-null object\n",
      "titre        3736 non-null object\n",
      "dtypes: float64(2), int64(2), object(5)\n",
      "memory usage: 291.9+ KB\n"
     ]
    }
   ],
   "source": [
    "hotelscom = pd.read_csv(\"clean_hotelscom.csv\")\n",
    "besthotel = pd.read_csv(\"clean_besthoteloffersnet.csv\")\n",
    "bookingcom = pd.read_csv(\"clean_bookingcom.csv\")\n",
    "result = pd.concat([hotelscom,besthotel,bookingcom])\n",
    "result.info()"
   ]
  },
  {
   "cell_type": "code",
   "execution_count": 3,
   "metadata": {},
   "outputs": [
    {
     "data": {
      "text/html": [
       "<div>\n",
       "<style scoped>\n",
       "    .dataframe tbody tr th:only-of-type {\n",
       "        vertical-align: middle;\n",
       "    }\n",
       "\n",
       "    .dataframe tbody tr th {\n",
       "        vertical-align: top;\n",
       "    }\n",
       "\n",
       "    .dataframe thead th {\n",
       "        text-align: right;\n",
       "    }\n",
       "</style>\n",
       "<table border=\"1\" class=\"dataframe\">\n",
       "  <thead>\n",
       "    <tr style=\"text-align: right;\">\n",
       "      <th></th>\n",
       "      <th>city</th>\n",
       "      <th>country</th>\n",
       "      <th>host</th>\n",
       "      <th>id</th>\n",
       "      <th>price</th>\n",
       "      <th>review</th>\n",
       "      <th>stars</th>\n",
       "      <th>timestamp</th>\n",
       "      <th>titre</th>\n",
       "    </tr>\n",
       "  </thead>\n",
       "  <tbody>\n",
       "    <tr>\n",
       "      <th>0</th>\n",
       "      <td>oud metha</td>\n",
       "      <td>united arab emirates</td>\n",
       "      <td>hotels.com</td>\n",
       "      <td>199445</td>\n",
       "      <td>883.0</td>\n",
       "      <td>8.6</td>\n",
       "      <td>5</td>\n",
       "      <td>2018-06-24 18:38:14.556195</td>\n",
       "      <td>movenpick hotel &amp; apartments bur dubai</td>\n",
       "    </tr>\n",
       "    <tr>\n",
       "      <th>1</th>\n",
       "      <td>culture village</td>\n",
       "      <td>united arab emirates</td>\n",
       "      <td>hotels.com</td>\n",
       "      <td>490216</td>\n",
       "      <td>2452.0</td>\n",
       "      <td>9.4</td>\n",
       "      <td>5</td>\n",
       "      <td>2018-06-24 18:38:14.556195</td>\n",
       "      <td>palazzo versace dubai</td>\n",
       "    </tr>\n",
       "    <tr>\n",
       "      <th>2</th>\n",
       "      <td>culture village</td>\n",
       "      <td>united arab emirates</td>\n",
       "      <td>hotels.com</td>\n",
       "      <td>598970752</td>\n",
       "      <td>594.0</td>\n",
       "      <td>7.2</td>\n",
       "      <td>4</td>\n",
       "      <td>2018-06-24 18:38:14.556195</td>\n",
       "      <td>goldstate hotel</td>\n",
       "    </tr>\n",
       "    <tr>\n",
       "      <th>3</th>\n",
       "      <td>culture village</td>\n",
       "      <td>united arab emirates</td>\n",
       "      <td>hotels.com</td>\n",
       "      <td>474731</td>\n",
       "      <td>501.0</td>\n",
       "      <td>6.6</td>\n",
       "      <td>4</td>\n",
       "      <td>2018-06-24 18:38:14.556195</td>\n",
       "      <td>reflections hotel dubai</td>\n",
       "    </tr>\n",
       "    <tr>\n",
       "      <th>4</th>\n",
       "      <td>culture village</td>\n",
       "      <td>united arab emirates</td>\n",
       "      <td>hotels.com</td>\n",
       "      <td>700354112</td>\n",
       "      <td>784.0</td>\n",
       "      <td>NaN</td>\n",
       "      <td>4</td>\n",
       "      <td>2018-06-24 18:38:14.556195</td>\n",
       "      <td>form hotel dubai, a member of design hotels</td>\n",
       "    </tr>\n",
       "    <tr>\n",
       "      <th>5</th>\n",
       "      <td>maghnia</td>\n",
       "      <td>algeria</td>\n",
       "      <td>hotels.com</td>\n",
       "      <td>390849</td>\n",
       "      <td>1575.0</td>\n",
       "      <td>8.2</td>\n",
       "      <td>5</td>\n",
       "      <td>2018-06-24 18:38:14.556195</td>\n",
       "      <td>renaissance tlemcen hotel</td>\n",
       "    </tr>\n",
       "    <tr>\n",
       "      <th>6</th>\n",
       "      <td>timimoun</td>\n",
       "      <td>algeria</td>\n",
       "      <td>hotels.com</td>\n",
       "      <td>591130</td>\n",
       "      <td>1460.0</td>\n",
       "      <td>8.0</td>\n",
       "      <td>4</td>\n",
       "      <td>2018-06-24 18:38:14.556195</td>\n",
       "      <td>hotel gourara</td>\n",
       "    </tr>\n",
       "    <tr>\n",
       "      <th>7</th>\n",
       "      <td>taghit</td>\n",
       "      <td>algeria</td>\n",
       "      <td>hotels.com</td>\n",
       "      <td>592733</td>\n",
       "      <td>1268.0</td>\n",
       "      <td>8.0</td>\n",
       "      <td>4</td>\n",
       "      <td>2018-06-24 18:38:14.556195</td>\n",
       "      <td>hotel taghit saoura</td>\n",
       "    </tr>\n",
       "    <tr>\n",
       "      <th>8</th>\n",
       "      <td>skikda</td>\n",
       "      <td>algeria</td>\n",
       "      <td>hotels.com</td>\n",
       "      <td>313539296</td>\n",
       "      <td>2079.0</td>\n",
       "      <td>5.0</td>\n",
       "      <td>5</td>\n",
       "      <td>2018-06-24 18:38:14.556195</td>\n",
       "      <td>royal tulip skikda</td>\n",
       "    </tr>\n",
       "    <tr>\n",
       "      <th>9</th>\n",
       "      <td>sidi bel abbes</td>\n",
       "      <td>algeria</td>\n",
       "      <td>hotels.com</td>\n",
       "      <td>452219</td>\n",
       "      <td>1016.0</td>\n",
       "      <td>6.8</td>\n",
       "      <td>4</td>\n",
       "      <td>2018-06-24 18:38:14.556195</td>\n",
       "      <td>eden bel abbes</td>\n",
       "    </tr>\n",
       "    <tr>\n",
       "      <th>10</th>\n",
       "      <td>business bay</td>\n",
       "      <td>united arab emirates</td>\n",
       "      <td>hotels.com</td>\n",
       "      <td>854433312</td>\n",
       "      <td>932.0</td>\n",
       "      <td>NaN</td>\n",
       "      <td>5</td>\n",
       "      <td>2018-06-24 18:38:14.556195</td>\n",
       "      <td>canal central hotel</td>\n",
       "    </tr>\n",
       "    <tr>\n",
       "      <th>11</th>\n",
       "      <td>business bay</td>\n",
       "      <td>united arab emirates</td>\n",
       "      <td>hotels.com</td>\n",
       "      <td>620727776</td>\n",
       "      <td>1759.0</td>\n",
       "      <td>9.6</td>\n",
       "      <td>5</td>\n",
       "      <td>2018-06-24 18:38:14.556195</td>\n",
       "      <td>renaissance downtown hotel, dubai</td>\n",
       "    </tr>\n",
       "    <tr>\n",
       "      <th>12</th>\n",
       "      <td>business bay</td>\n",
       "      <td>united arab emirates</td>\n",
       "      <td>hotels.com</td>\n",
       "      <td>419330</td>\n",
       "      <td>1875.0</td>\n",
       "      <td>9.2</td>\n",
       "      <td>5</td>\n",
       "      <td>2018-06-24 18:38:14.556195</td>\n",
       "      <td>the oberoi</td>\n",
       "    </tr>\n",
       "    <tr>\n",
       "      <th>13</th>\n",
       "      <td>business bay</td>\n",
       "      <td>united arab emirates</td>\n",
       "      <td>hotels.com</td>\n",
       "      <td>421532</td>\n",
       "      <td>1413.0</td>\n",
       "      <td>9.4</td>\n",
       "      <td>5</td>\n",
       "      <td>2018-06-24 18:38:14.556195</td>\n",
       "      <td>jw marriott marquis hotel dubai</td>\n",
       "    </tr>\n",
       "    <tr>\n",
       "      <th>14</th>\n",
       "      <td>business bay</td>\n",
       "      <td>united arab emirates</td>\n",
       "      <td>hotels.com</td>\n",
       "      <td>394431840</td>\n",
       "      <td>1033.0</td>\n",
       "      <td>8.6</td>\n",
       "      <td>5</td>\n",
       "      <td>2018-06-24 18:38:14.556195</td>\n",
       "      <td>steigenberger hotel business bay, dubai</td>\n",
       "    </tr>\n",
       "    <tr>\n",
       "      <th>15</th>\n",
       "      <td>al baraha</td>\n",
       "      <td>united arab emirates</td>\n",
       "      <td>hotels.com</td>\n",
       "      <td>395568</td>\n",
       "      <td>407.0</td>\n",
       "      <td>7.0</td>\n",
       "      <td>4</td>\n",
       "      <td>2018-06-24 18:38:14.556195</td>\n",
       "      <td>hues boutique hotel</td>\n",
       "    </tr>\n",
       "    <tr>\n",
       "      <th>16</th>\n",
       "      <td>ajman</td>\n",
       "      <td>united arab emirates</td>\n",
       "      <td>hotels.com</td>\n",
       "      <td>685472</td>\n",
       "      <td>2794.0</td>\n",
       "      <td>9.6</td>\n",
       "      <td>5</td>\n",
       "      <td>2018-06-24 18:38:14.556195</td>\n",
       "      <td>the oberoi beach resort, al zorah</td>\n",
       "    </tr>\n",
       "    <tr>\n",
       "      <th>17</th>\n",
       "      <td>ajman</td>\n",
       "      <td>united arab emirates</td>\n",
       "      <td>hotels.com</td>\n",
       "      <td>429007</td>\n",
       "      <td>982.0</td>\n",
       "      <td>8.6</td>\n",
       "      <td>5</td>\n",
       "      <td>2018-06-24 18:38:14.556195</td>\n",
       "      <td>bahi ajman palace hotel</td>\n",
       "    </tr>\n",
       "    <tr>\n",
       "      <th>18</th>\n",
       "      <td>ajman</td>\n",
       "      <td>united arab emirates</td>\n",
       "      <td>hotels.com</td>\n",
       "      <td>427741</td>\n",
       "      <td>529.0</td>\n",
       "      <td>7.6</td>\n",
       "      <td>4</td>\n",
       "      <td>2018-06-24 18:38:14.556195</td>\n",
       "      <td>ramada beach hotel ajman</td>\n",
       "    </tr>\n",
       "    <tr>\n",
       "      <th>19</th>\n",
       "      <td>ain al fayda</td>\n",
       "      <td>united arab emirates</td>\n",
       "      <td>hotels.com</td>\n",
       "      <td>686063</td>\n",
       "      <td>798.0</td>\n",
       "      <td>8.8</td>\n",
       "      <td>5</td>\n",
       "      <td>2018-06-24 18:38:14.556195</td>\n",
       "      <td>ayla grand hotel</td>\n",
       "    </tr>\n",
       "  </tbody>\n",
       "</table>\n",
       "</div>"
      ],
      "text/plain": [
       "               city               country        host         id   price  \\\n",
       "0         oud metha  united arab emirates  hotels.com     199445   883.0   \n",
       "1   culture village  united arab emirates  hotels.com     490216  2452.0   \n",
       "2   culture village  united arab emirates  hotels.com  598970752   594.0   \n",
       "3   culture village  united arab emirates  hotels.com     474731   501.0   \n",
       "4   culture village  united arab emirates  hotels.com  700354112   784.0   \n",
       "5           maghnia               algeria  hotels.com     390849  1575.0   \n",
       "6          timimoun               algeria  hotels.com     591130  1460.0   \n",
       "7            taghit               algeria  hotels.com     592733  1268.0   \n",
       "8            skikda               algeria  hotels.com  313539296  2079.0   \n",
       "9    sidi bel abbes               algeria  hotels.com     452219  1016.0   \n",
       "10     business bay  united arab emirates  hotels.com  854433312   932.0   \n",
       "11     business bay  united arab emirates  hotels.com  620727776  1759.0   \n",
       "12     business bay  united arab emirates  hotels.com     419330  1875.0   \n",
       "13     business bay  united arab emirates  hotels.com     421532  1413.0   \n",
       "14     business bay  united arab emirates  hotels.com  394431840  1033.0   \n",
       "15        al baraha  united arab emirates  hotels.com     395568   407.0   \n",
       "16            ajman  united arab emirates  hotels.com     685472  2794.0   \n",
       "17            ajman  united arab emirates  hotels.com     429007   982.0   \n",
       "18            ajman  united arab emirates  hotels.com     427741   529.0   \n",
       "19     ain al fayda  united arab emirates  hotels.com     686063   798.0   \n",
       "\n",
       "    review  stars                   timestamp  \\\n",
       "0      8.6      5  2018-06-24 18:38:14.556195   \n",
       "1      9.4      5  2018-06-24 18:38:14.556195   \n",
       "2      7.2      4  2018-06-24 18:38:14.556195   \n",
       "3      6.6      4  2018-06-24 18:38:14.556195   \n",
       "4      NaN      4  2018-06-24 18:38:14.556195   \n",
       "5      8.2      5  2018-06-24 18:38:14.556195   \n",
       "6      8.0      4  2018-06-24 18:38:14.556195   \n",
       "7      8.0      4  2018-06-24 18:38:14.556195   \n",
       "8      5.0      5  2018-06-24 18:38:14.556195   \n",
       "9      6.8      4  2018-06-24 18:38:14.556195   \n",
       "10     NaN      5  2018-06-24 18:38:14.556195   \n",
       "11     9.6      5  2018-06-24 18:38:14.556195   \n",
       "12     9.2      5  2018-06-24 18:38:14.556195   \n",
       "13     9.4      5  2018-06-24 18:38:14.556195   \n",
       "14     8.6      5  2018-06-24 18:38:14.556195   \n",
       "15     7.0      4  2018-06-24 18:38:14.556195   \n",
       "16     9.6      5  2018-06-24 18:38:14.556195   \n",
       "17     8.6      5  2018-06-24 18:38:14.556195   \n",
       "18     7.6      4  2018-06-24 18:38:14.556195   \n",
       "19     8.8      5  2018-06-24 18:38:14.556195   \n",
       "\n",
       "                                          titre  \n",
       "0        movenpick hotel & apartments bur dubai  \n",
       "1                         palazzo versace dubai  \n",
       "2                               goldstate hotel  \n",
       "3                       reflections hotel dubai  \n",
       "4   form hotel dubai, a member of design hotels  \n",
       "5                     renaissance tlemcen hotel  \n",
       "6                                 hotel gourara  \n",
       "7                           hotel taghit saoura  \n",
       "8                            royal tulip skikda  \n",
       "9                                eden bel abbes  \n",
       "10                          canal central hotel  \n",
       "11            renaissance downtown hotel, dubai  \n",
       "12                                   the oberoi  \n",
       "13              jw marriott marquis hotel dubai  \n",
       "14      steigenberger hotel business bay, dubai  \n",
       "15                          hues boutique hotel  \n",
       "16            the oberoi beach resort, al zorah  \n",
       "17                      bahi ajman palace hotel  \n",
       "18                     ramada beach hotel ajman  \n",
       "19                             ayla grand hotel  "
      ]
     },
     "execution_count": 3,
     "metadata": {},
     "output_type": "execute_result"
    }
   ],
   "source": [
    "result.head(20)"
   ]
  },
  {
   "cell_type": "code",
   "execution_count": 23,
   "metadata": {
    "scrolled": true
   },
   "outputs": [
    {
     "data": {
      "text/plain": [
       "array(['united arab emirates', 'algeria', 'morocco', 'jordan', 'tunisia',\n",
       "       'lebanon'], dtype=object)"
      ]
     },
     "execution_count": 23,
     "metadata": {},
     "output_type": "execute_result"
    }
   ],
   "source": [
    "result['country'].unique()"
   ]
  },
  {
   "cell_type": "code",
   "execution_count": 53,
   "metadata": {},
   "outputs": [
    {
     "data": {
      "text/plain": [
       "<matplotlib.axes._subplots.AxesSubplot at 0x7f6aae3777b8>"
      ]
     },
     "execution_count": 53,
     "metadata": {},
     "output_type": "execute_result"
    },
    {
     "data": {
      "image/png": "[encoded data removed]",
      "text/plain": [
       "<Figure size 432x288 with 1 Axes>"
      ]
     },
     "metadata": {},
     "output_type": "display_data"
    }
   ],
   "source": [
    "groups  = result.groupby('host')['price'].mean()\n",
    "groups.plot.bar()"
   ]
  },
  {
   "cell_type": "code",
   "execution_count": 54,
   "metadata": {},
   "outputs": [
    {
     "data": {
      "text/plain": [
       "<matplotlib.axes._subplots.AxesSubplot at 0x7f6aae312908>"
      ]
     },
     "execution_count": 54,
     "metadata": {},
     "output_type": "execute_result"
    },
    {
     "data": {
      "image/png": "[encoded data removed]",
      "text/plain": [
       "<Figure size 432x288 with 1 Axes>"
      ]
     },
     "metadata": {},
     "output_type": "display_data"
    }
   ],
   "source": [
    "groups  = result[result.country == 'tunisia'].groupby('host')['price'].mean()\n",
    "groups.plot.bar()"
   ]
  },
  {
   "cell_type": "code",
   "execution_count": 56,
   "metadata": {},
   "outputs": [
    {
     "data": {
      "text/plain": [
       "<matplotlib.axes._subplots.AxesSubplot at 0x7f6aae2a24a8>"
      ]
     },
     "execution_count": 56,
     "metadata": {},
     "output_type": "execute_result"
    },
    {
     "data": {
      "image/png": "[encoded data removed]",
      "text/plain": [
       "<Figure size 432x288 with 1 Axes>"
      ]
     },
     "metadata": {},
     "output_type": "display_data"
    }
   ],
   "source": [
    "groups  = result[result.country == 'jordan'].groupby('host')['price'].mean()\n",
    "groups.plot.bar()"
   ]
  },
  {
   "cell_type": "code",
   "execution_count": 60,
   "metadata": {},
   "outputs": [
    {
     "data": {
      "text/plain": [
       "<matplotlib.axes._subplots.AxesSubplot at 0x7f6aae0f22e8>"
      ]
     },
     "execution_count": 60,
     "metadata": {},
     "output_type": "execute_result"
    },
    {
     "data": {
      "image/png": "[encoded data removed]",
      "text/plain": [
       "<Figure size 432x288 with 1 Axes>"
      ]
     },
     "metadata": {},
     "output_type": "display_data"
    }
   ],
   "source": [
    "groups  = result[result.host == 'booking.com'].groupby('country').size()\n",
    "groups.plot.bar()"
   ]
  },
  {
   "cell_type": "code",
   "execution_count": 77,
   "metadata": {},
   "outputs": [
    {
     "data": {
      "text/plain": [
       "<matplotlib.axes._subplots.AxesSubplot at 0x7f6aade18b70>"
      ]
     },
     "execution_count": 77,
     "metadata": {},
     "output_type": "execute_result"
    },
    {
     "data": {
      "image/png": "[encoded data removed]",
      "text/plain": [
       "<Figure size 432x288 with 1 Axes>"
      ]
     },
     "metadata": {},
     "output_type": "display_data"
    }
   ],
   "source": [
    "groups  = result[(result.host == 'hotels.com' ) & (result.stars == 5)].groupby('country').min()\n",
    "#groups =result[result.host == 'booking.com' & result.stars == 3].sort_values(\"price\").groupby(\"icountrytem\", as_index=False).first()\n",
    "\n",
    "groups.plot.bar()"
   ]
  },
  {
   "cell_type": "code",
   "execution_count": 85,
   "metadata": {},
   "outputs": [
    {
     "ename": "KeyError",
     "evalue": "False",
     "output_type": "error",
     "traceback": [
      "\u001b[0;31m---------------------------------------------------------------------------\u001b[0m",
      "\u001b[0;31mKeyError\u001b[0m                                  Traceback (most recent call last)",
      "\u001b[0;32m/usr/local/lib/python3.6/dist-packages/pandas/core/indexes/base.py\u001b[0m in \u001b[0;36mget_loc\u001b[0;34m(self, key, method, tolerance)\u001b[0m\n\u001b[1;32m   3062\u001b[0m             \u001b[0;32mtry\u001b[0m\u001b[0;34m:\u001b[0m\u001b[0;34m\u001b[0m\u001b[0m\n\u001b[0;32m-> 3063\u001b[0;31m                 \u001b[0;32mreturn\u001b[0m \u001b[0mself\u001b[0m\u001b[0;34m.\u001b[0m\u001b[0m_engine\u001b[0m\u001b[0;34m.\u001b[0m\u001b[0mget_loc\u001b[0m\u001b[0;34m(\u001b[0m\u001b[0mkey\u001b[0m\u001b[0;34m)\u001b[0m\u001b[0;34m\u001b[0m\u001b[0m\n\u001b[0m\u001b[1;32m   3064\u001b[0m             \u001b[0;32mexcept\u001b[0m \u001b[0mKeyError\u001b[0m\u001b[0;34m:\u001b[0m\u001b[0;34m\u001b[0m\u001b[0m\n",
      "\u001b[0;32mpandas/_libs/index.pyx\u001b[0m in \u001b[0;36mpandas._libs.index.IndexEngine.get_loc\u001b[0;34m()\u001b[0m\n",
      "\u001b[0;32mpandas/_libs/index.pyx\u001b[0m in \u001b[0;36mpandas._libs.index.IndexEngine.get_loc\u001b[0;34m()\u001b[0m\n",
      "\u001b[0;32mpandas/_libs/hashtable_class_helper.pxi\u001b[0m in \u001b[0;36mpandas._libs.hashtable.PyObjectHashTable.get_item\u001b[0;34m()\u001b[0m\n",
      "\u001b[0;32mpandas/_libs/hashtable_class_helper.pxi\u001b[0m in \u001b[0;36mpandas._libs.hashtable.PyObjectHashTable.get_item\u001b[0;34m()\u001b[0m\n",
      "\u001b[0;31mKeyError\u001b[0m: False",
      "\nDuring handling of the above exception, another exception occurred:\n",
      "\u001b[0;31mKeyError\u001b[0m                                  Traceback (most recent call last)",
      "\u001b[0;32m<ipython-input-85-fe2e6385bd84>\u001b[0m in \u001b[0;36m<module>\u001b[0;34m()\u001b[0m\n\u001b[1;32m      2\u001b[0m \u001b[0;31m#groups =result[result.host == 'booking.com' & result.stars == 3].sort_values(\"price\").groupby(\"icountrytem\", as_index=False).first()\u001b[0m\u001b[0;34m\u001b[0m\u001b[0;34m\u001b[0m\u001b[0m\n\u001b[1;32m      3\u001b[0m \u001b[0;34m\u001b[0m\u001b[0m\n\u001b[0;32m----> 4\u001b[0;31m \u001b[0mresult\u001b[0m\u001b[0;34m[\u001b[0m\u001b[0;34m'court & suites'\u001b[0m \u001b[0;32min\u001b[0m \u001b[0mresult\u001b[0m\u001b[0;34m.\u001b[0m\u001b[0mtitre\u001b[0m \u001b[0;34m]\u001b[0m\u001b[0;34m\u001b[0m\u001b[0m\n\u001b[0m",
      "\u001b[0;32m/usr/local/lib/python3.6/dist-packages/pandas/core/frame.py\u001b[0m in \u001b[0;36m__getitem__\u001b[0;34m(self, key)\u001b[0m\n\u001b[1;32m   2683\u001b[0m             \u001b[0;32mreturn\u001b[0m \u001b[0mself\u001b[0m\u001b[0;34m.\u001b[0m\u001b[0m_getitem_multilevel\u001b[0m\u001b[0;34m(\u001b[0m\u001b[0mkey\u001b[0m\u001b[0;34m)\u001b[0m\u001b[0;34m\u001b[0m\u001b[0m\n\u001b[1;32m   2684\u001b[0m         \u001b[0;32melse\u001b[0m\u001b[0;34m:\u001b[0m\u001b[0;34m\u001b[0m\u001b[0m\n\u001b[0;32m-> 2685\u001b[0;31m             \u001b[0;32mreturn\u001b[0m \u001b[0mself\u001b[0m\u001b[0;34m.\u001b[0m\u001b[0m_getitem_column\u001b[0m\u001b[0;34m(\u001b[0m\u001b[0mkey\u001b[0m\u001b[0;34m)\u001b[0m\u001b[0;34m\u001b[0m\u001b[0m\n\u001b[0m\u001b[1;32m   2686\u001b[0m \u001b[0;34m\u001b[0m\u001b[0m\n\u001b[1;32m   2687\u001b[0m     \u001b[0;32mdef\u001b[0m \u001b[0m_getitem_column\u001b[0m\u001b[0;34m(\u001b[0m\u001b[0mself\u001b[0m\u001b[0;34m,\u001b[0m \u001b[0mkey\u001b[0m\u001b[0;34m)\u001b[0m\u001b[0;34m:\u001b[0m\u001b[0;34m\u001b[0m\u001b[0m\n",
      "\u001b[0;32m/usr/local/lib/python3.6/dist-packages/pandas/core/frame.py\u001b[0m in \u001b[0;36m_getitem_column\u001b[0;34m(self, key)\u001b[0m\n\u001b[1;32m   2690\u001b[0m         \u001b[0;31m# get column\u001b[0m\u001b[0;34m\u001b[0m\u001b[0;34m\u001b[0m\u001b[0m\n\u001b[1;32m   2691\u001b[0m         \u001b[0;32mif\u001b[0m \u001b[0mself\u001b[0m\u001b[0;34m.\u001b[0m\u001b[0mcolumns\u001b[0m\u001b[0;34m.\u001b[0m\u001b[0mis_unique\u001b[0m\u001b[0;34m:\u001b[0m\u001b[0;34m\u001b[0m\u001b[0m\n\u001b[0;32m-> 2692\u001b[0;31m             \u001b[0;32mreturn\u001b[0m \u001b[0mself\u001b[0m\u001b[0;34m.\u001b[0m\u001b[0m_get_item_cache\u001b[0m\u001b[0;34m(\u001b[0m\u001b[0mkey\u001b[0m\u001b[0;34m)\u001b[0m\u001b[0;34m\u001b[0m\u001b[0m\n\u001b[0m\u001b[1;32m   2693\u001b[0m \u001b[0;34m\u001b[0m\u001b[0m\n\u001b[1;32m   2694\u001b[0m         \u001b[0;31m# duplicate columns & possible reduce dimensionality\u001b[0m\u001b[0;34m\u001b[0m\u001b[0;34m\u001b[0m\u001b[0m\n",
      "\u001b[0;32m/usr/local/lib/python3.6/dist-packages/pandas/core/generic.py\u001b[0m in \u001b[0;36m_get_item_cache\u001b[0;34m(self, item)\u001b[0m\n\u001b[1;32m   2484\u001b[0m         \u001b[0mres\u001b[0m \u001b[0;34m=\u001b[0m \u001b[0mcache\u001b[0m\u001b[0;34m.\u001b[0m\u001b[0mget\u001b[0m\u001b[0;34m(\u001b[0m\u001b[0mitem\u001b[0m\u001b[0;34m)\u001b[0m\u001b[0;34m\u001b[0m\u001b[0m\n\u001b[1;32m   2485\u001b[0m         \u001b[0;32mif\u001b[0m \u001b[0mres\u001b[0m \u001b[0;32mis\u001b[0m \u001b[0;32mNone\u001b[0m\u001b[0;34m:\u001b[0m\u001b[0;34m\u001b[0m\u001b[0m\n\u001b[0;32m-> 2486\u001b[0;31m             \u001b[0mvalues\u001b[0m \u001b[0;34m=\u001b[0m \u001b[0mself\u001b[0m\u001b[0;34m.\u001b[0m\u001b[0m_data\u001b[0m\u001b[0;34m.\u001b[0m\u001b[0mget\u001b[0m\u001b[0;34m(\u001b[0m\u001b[0mitem\u001b[0m\u001b[0;34m)\u001b[0m\u001b[0;34m\u001b[0m\u001b[0m\n\u001b[0m\u001b[1;32m   2487\u001b[0m             \u001b[0mres\u001b[0m \u001b[0;34m=\u001b[0m \u001b[0mself\u001b[0m\u001b[0;34m.\u001b[0m\u001b[0m_box_item_values\u001b[0m\u001b[0;34m(\u001b[0m\u001b[0mitem\u001b[0m\u001b[0;34m,\u001b[0m \u001b[0mvalues\u001b[0m\u001b[0;34m)\u001b[0m\u001b[0;34m\u001b[0m\u001b[0m\n\u001b[1;32m   2488\u001b[0m             \u001b[0mcache\u001b[0m\u001b[0;34m[\u001b[0m\u001b[0mitem\u001b[0m\u001b[0;34m]\u001b[0m \u001b[0;34m=\u001b[0m \u001b[0mres\u001b[0m\u001b[0;34m\u001b[0m\u001b[0m\n",
      "\u001b[0;32m/usr/local/lib/python3.6/dist-packages/pandas/core/internals.py\u001b[0m in \u001b[0;36mget\u001b[0;34m(self, item, fastpath)\u001b[0m\n\u001b[1;32m   4113\u001b[0m \u001b[0;34m\u001b[0m\u001b[0m\n\u001b[1;32m   4114\u001b[0m             \u001b[0;32mif\u001b[0m \u001b[0;32mnot\u001b[0m \u001b[0misna\u001b[0m\u001b[0;34m(\u001b[0m\u001b[0mitem\u001b[0m\u001b[0;34m)\u001b[0m\u001b[0;34m:\u001b[0m\u001b[0;34m\u001b[0m\u001b[0m\n\u001b[0;32m-> 4115\u001b[0;31m                 \u001b[0mloc\u001b[0m \u001b[0;34m=\u001b[0m \u001b[0mself\u001b[0m\u001b[0;34m.\u001b[0m\u001b[0mitems\u001b[0m\u001b[0;34m.\u001b[0m\u001b[0mget_loc\u001b[0m\u001b[0;34m(\u001b[0m\u001b[0mitem\u001b[0m\u001b[0;34m)\u001b[0m\u001b[0;34m\u001b[0m\u001b[0m\n\u001b[0m\u001b[1;32m   4116\u001b[0m             \u001b[0;32melse\u001b[0m\u001b[0;34m:\u001b[0m\u001b[0;34m\u001b[0m\u001b[0m\n\u001b[1;32m   4117\u001b[0m                 \u001b[0mindexer\u001b[0m \u001b[0;34m=\u001b[0m \u001b[0mnp\u001b[0m\u001b[0;34m.\u001b[0m\u001b[0marange\u001b[0m\u001b[0;34m(\u001b[0m\u001b[0mlen\u001b[0m\u001b[0;34m(\u001b[0m\u001b[0mself\u001b[0m\u001b[0;34m.\u001b[0m\u001b[0mitems\u001b[0m\u001b[0;34m)\u001b[0m\u001b[0;34m)\u001b[0m\u001b[0;34m[\u001b[0m\u001b[0misna\u001b[0m\u001b[0;34m(\u001b[0m\u001b[0mself\u001b[0m\u001b[0;34m.\u001b[0m\u001b[0mitems\u001b[0m\u001b[0;34m)\u001b[0m\u001b[0;34m]\u001b[0m\u001b[0;34m\u001b[0m\u001b[0m\n",
      "\u001b[0;32m/usr/local/lib/python3.6/dist-packages/pandas/core/indexes/base.py\u001b[0m in \u001b[0;36mget_loc\u001b[0;34m(self, key, method, tolerance)\u001b[0m\n\u001b[1;32m   3063\u001b[0m                 \u001b[0;32mreturn\u001b[0m \u001b[0mself\u001b[0m\u001b[0;34m.\u001b[0m\u001b[0m_engine\u001b[0m\u001b[0;34m.\u001b[0m\u001b[0mget_loc\u001b[0m\u001b[0;34m(\u001b[0m\u001b[0mkey\u001b[0m\u001b[0;34m)\u001b[0m\u001b[0;34m\u001b[0m\u001b[0m\n\u001b[1;32m   3064\u001b[0m             \u001b[0;32mexcept\u001b[0m \u001b[0mKeyError\u001b[0m\u001b[0;34m:\u001b[0m\u001b[0;34m\u001b[0m\u001b[0m\n\u001b[0;32m-> 3065\u001b[0;31m                 \u001b[0;32mreturn\u001b[0m \u001b[0mself\u001b[0m\u001b[0;34m.\u001b[0m\u001b[0m_engine\u001b[0m\u001b[0;34m.\u001b[0m\u001b[0mget_loc\u001b[0m\u001b[0;34m(\u001b[0m\u001b[0mself\u001b[0m\u001b[0;34m.\u001b[0m\u001b[0m_maybe_cast_indexer\u001b[0m\u001b[0;34m(\u001b[0m\u001b[0mkey\u001b[0m\u001b[0;34m)\u001b[0m\u001b[0;34m)\u001b[0m\u001b[0;34m\u001b[0m\u001b[0m\n\u001b[0m\u001b[1;32m   3066\u001b[0m \u001b[0;34m\u001b[0m\u001b[0m\n\u001b[1;32m   3067\u001b[0m         \u001b[0mindexer\u001b[0m \u001b[0;34m=\u001b[0m \u001b[0mself\u001b[0m\u001b[0;34m.\u001b[0m\u001b[0mget_indexer\u001b[0m\u001b[0;34m(\u001b[0m\u001b[0;34m[\u001b[0m\u001b[0mkey\u001b[0m\u001b[0;34m]\u001b[0m\u001b[0;34m,\u001b[0m \u001b[0mmethod\u001b[0m\u001b[0;34m=\u001b[0m\u001b[0mmethod\u001b[0m\u001b[0;34m,\u001b[0m \u001b[0mtolerance\u001b[0m\u001b[0;34m=\u001b[0m\u001b[0mtolerance\u001b[0m\u001b[0;34m)\u001b[0m\u001b[0;34m\u001b[0m\u001b[0m\n",
      "\u001b[0;32mpandas/_libs/index.pyx\u001b[0m in \u001b[0;36mpandas._libs.index.IndexEngine.get_loc\u001b[0;34m()\u001b[0m\n",
      "\u001b[0;32mpandas/_libs/index.pyx\u001b[0m in \u001b[0;36mpandas._libs.index.IndexEngine.get_loc\u001b[0;34m()\u001b[0m\n",
      "\u001b[0;32mpandas/_libs/hashtable_class_helper.pxi\u001b[0m in \u001b[0;36mpandas._libs.hashtable.PyObjectHashTable.get_item\u001b[0;34m()\u001b[0m\n",
      "\u001b[0;32mpandas/_libs/hashtable_class_helper.pxi\u001b[0m in \u001b[0;36mpandas._libs.hashtable.PyObjectHashTable.get_item\u001b[0;34m()\u001b[0m\n",
      "\u001b[0;31mKeyError\u001b[0m: False"
     ]
    }
   ],
   "source": [
    "groups  = result[ (result.stars == 5)].groupby('host').min()\n",
    "#groups =result[result.host == 'booking.com' & result.stars == 3].sort_values(\"price\").groupby(\"icountrytem\", as_index=False).first()\n",
    "\n",
    "result['court & suites' in result.titre ]"
   ]
  },
  {
   "cell_type": "code",
   "execution_count": null,
   "metadata": {},
   "outputs": [],
   "source": []
  }
 ],
 "metadata": {
  "kernelspec": {
   "display_name": "Python 3",
   "language": "python",
   "name": "python3"
  },
  "language_info": {
   "codemirror_mode": {
    "name": "ipython",
    "version": 3
   },
   "file_extension": ".py",
   "mimetype": "text/x-python",
   "name": "python",
   "nbconvert_exporter": "python",
   "pygments_lexer": "ipython3",
   "version": "3.6.5"
  }
 },
 "nbformat": 4,
 "nbformat_minor": 2
}
